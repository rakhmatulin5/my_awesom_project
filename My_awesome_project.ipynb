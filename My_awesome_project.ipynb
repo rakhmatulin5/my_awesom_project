{
 "cells": [
  {
   "cell_type": "markdown",
   "metadata": {},
   "source": [
    "# Задание 1. A/B–тестирование"
   ]
  },
  {
   "cell_type": "markdown",
   "metadata": {},
   "source": [
    "### Условие \n",
    "Одной из основных задач аналитика в нашей команде является корректное проведение экспериментов. Для этого мы применяем метод A/B–тестирования. В ходе тестирования одной гипотезы целевой группе была предложена новая механика оплаты услуг на сайте, у контрольной группы оставалась базовая механика. В качестве задания Вам необходимо проанализировать итоги эксперимента и сделать вывод, стоит ли запускать новую механику оплаты на всех пользователей."
   ]
  },
  {
   "cell_type": "markdown",
   "metadata": {},
   "source": [
    "### Входные данные\n",
    "\n",
    "В качестве входных данных Мы имеем 4 csv-файла:\n",
    "\n",
    "__groups.csv__ - файл с информацией о принадлежности пользователя к контрольной или экспериментальной группе (А – контроль, B – целевая группа) \n",
    "\n",
    "__groups_add.csv__ - дополнительный файл с пользователями, который вам прислали спустя 2 дня после передачи данных.\n",
    "\n",
    "__active_studs.csv__ - файл с информацией о пользователях, которые зашли на платформу в дни проведения эксперимента.\n",
    "\n",
    "__checks.csv__ - файл с информацией об оплатах пользователей в дни проведения эксперимента. \n"
   ]
  },
  {
   "cell_type": "markdown",
   "metadata": {},
   "source": [
    "---"
   ]
  },
  {
   "cell_type": "code",
   "execution_count": 1,
   "metadata": {},
   "outputs": [],
   "source": [
    "#Импортируем нужные нам библиотеки\n",
    "\n",
    "import pandas as pd\n",
    "import requests\n",
    "from   urllib.parse import urlencode\n",
    "import seaborn as sns\n",
    "import matplotlib.pyplot as plt\n",
    "import numpy as np\n",
    "import scipy\n",
    "from   scipy import stats\n",
    "from   scipy.stats import norm, chi2_contingency, mannwhitneyu\n",
    "import pandahouse as ph\n",
    "import warnings\n",
    "from tqdm.auto import tqdm"
   ]
  },
  {
   "cell_type": "code",
   "execution_count": 2,
   "metadata": {},
   "outputs": [],
   "source": [
    "# отключаем предупреждения\n",
    "\n",
    "warnings.filterwarnings('ignore')"
   ]
  },
  {
   "cell_type": "code",
   "execution_count": 3,
   "metadata": {},
   "outputs": [],
   "source": [
    "# добавим стиля графикам\n",
    "\n",
    "sns.set(\n",
    "    font_scale=1.5,\n",
    "    style=\"darkgrid\",\n",
    "    rc={'figure.figsize':(9,5)}\n",
    "        )"
   ]
  },
  {
   "cell_type": "markdown",
   "metadata": {},
   "source": [
    "---"
   ]
  },
  {
   "cell_type": "code",
   "execution_count": 4,
   "metadata": {},
   "outputs": [],
   "source": [
    "#Функция для чтения файлов с Яндекс Диска\n",
    "\n",
    "def get_files(url):\n",
    "    base_url  = 'https://cloud-api.yandex.net/v1/disk/public/resources/download?' \n",
    "    final_url = base_url + urlencode(dict(public_key=url))\n",
    "    response  = requests.get(final_url)\n",
    "    href      = response.json()['href']"
   ]
  },
  {
   "cell_type": "code",
   "execution_count": 5,
   "metadata": {},
   "outputs": [],
   "source": [
    "# Применяем функцию для чтения файлов с яндекс диска, если не получится их получить,\n",
    "# то прочитаем данные с локальной директории\n",
    "\n",
    "try:\n",
    "    groups        = pd.read_csv(get_files('https://disk.yandex.ru/d/UhyYx41rTt3clQ'), sep = ';')\n",
    "    groups_add    = pd.read_csv(get_files('https://disk.yandex.ru/d/5Kxrz02m3IBUwQ'))\n",
    "    active_studs  = pd.read_csv(get_files('https://disk.yandex.ru/d/Tbs44Bm6H_FwFQ'))\n",
    "    checks        = pd.read_csv(get_files('https://disk.yandex.ru/d/pH1q-VqcxXjsVA'), sep = ';')\n",
    "except:\n",
    "    groups        = pd.read_csv('~/final_project_data/Проект_2_groups.csv', sep = ';')\n",
    "    groups_add    = pd.read_csv('~/final_project_data/Проект_2_group_add.csv')\n",
    "    active_studs  = pd.read_csv('~/final_project_data/Проект_2_active_studs.csv')\n",
    "    checks        = pd.read_csv('~/final_project_data/Проект_2_checks.csv', sep = ';')"
   ]
  },
  {
   "cell_type": "code",
   "execution_count": 6,
   "metadata": {},
   "outputs": [],
   "source": [
    "#создаем функцию для просмотра информации о датафрейме\n",
    "\n",
    "def view_data(df):\n",
    "    # Просмотр первых 5 строк датафрейма\n",
    "    print('Head:')\n",
    "    print(df.head())\n",
    "    print()\n",
    "    \n",
    "    # Просмотр общей информации о датафрейме\n",
    "    print('\\nКоличество строк и колонок:')\n",
    "    print(df.shape)\n",
    "    print()\n",
    "    \n",
    "    # Типы данных\n",
    "    print('\\nТипы данных:')\n",
    "    print(df.dtypes)\n",
    "    print()\n",
    "\n",
    "    # Есть ли пропущенные значения \n",
    "    print('\\nПропущенные значения:')\n",
    "    print(df.isna().sum())\n",
    "    print()\n",
    "    \n",
    "    # Ищем дубликаты\n",
    "    print('\\nКоличество дубликатов:')\n",
    "    print(df.duplicated().sum())\n",
    "    "
   ]
  },
  {
   "cell_type": "markdown",
   "metadata": {},
   "source": [
    "__groups__ - файл с информацией о принадлежности пользователя к контрольной или экспериментальной группе\n",
    "(А – контроль, B – целевая группа)"
   ]
  },
  {
   "cell_type": "code",
   "execution_count": 7,
   "metadata": {},
   "outputs": [
    {
     "name": "stdout",
     "output_type": "stream",
     "text": [
      "Head:\n",
      "     id grp\n",
      "0  1489   B\n",
      "1  1627   A\n",
      "2  1768   B\n",
      "3  1783   B\n",
      "4  1794   A\n",
      "\n",
      "\n",
      "Количество строк и колонок:\n",
      "(74484, 2)\n",
      "\n",
      "\n",
      "Типы данных:\n",
      "id      int64\n",
      "grp    object\n",
      "dtype: object\n",
      "\n",
      "\n",
      "Пропущенные значения:\n",
      "id     0\n",
      "grp    0\n",
      "dtype: int64\n",
      "\n",
      "\n",
      "Количество дубликатов:\n",
      "0\n"
     ]
    }
   ],
   "source": [
    "view_data(groups)"
   ]
  },
  {
   "cell_type": "code",
   "execution_count": 8,
   "metadata": {
    "scrolled": true
   },
   "outputs": [
    {
     "data": {
      "text/plain": [
       "B    59813\n",
       "A    14671\n",
       "Name: grp, dtype: int64"
      ]
     },
     "execution_count": 8,
     "metadata": {},
     "output_type": "execute_result"
    }
   ],
   "source": [
    "groups.grp.value_counts()"
   ]
  },
  {
   "cell_type": "code",
   "execution_count": 9,
   "metadata": {
    "scrolled": false
   },
   "outputs": [
    {
     "data": {
      "image/png": "[encoded data removed]",
      "text/plain": [
       "<Figure size 648x360 with 1 Axes>"
      ]
     },
     "metadata": {},
     "output_type": "display_data"
    }
   ],
   "source": [
    "sns.countplot(groups.grp);"
   ]
  },
  {
   "cell_type": "markdown",
   "metadata": {},
   "source": [
    "__groups_add__ - дополнительный файл с пользователями, который прислали спустя 2 дня после передачи данных"
   ]
  },
  {
   "cell_type": "code",
   "execution_count": 10,
   "metadata": {},
   "outputs": [
    {
     "name": "stdout",
     "output_type": "stream",
     "text": [
      "Head:\n",
      "        id grp\n",
      "0  5694584   B\n",
      "1  5694830   B\n",
      "2  5695057   B\n",
      "3  5698872   B\n",
      "4  5699067   B\n",
      "\n",
      "\n",
      "Количество строк и колонок:\n",
      "(92, 2)\n",
      "\n",
      "\n",
      "Типы данных:\n",
      "id      int64\n",
      "grp    object\n",
      "dtype: object\n",
      "\n",
      "\n",
      "Пропущенные значения:\n",
      "id     0\n",
      "grp    0\n",
      "dtype: int64\n",
      "\n",
      "\n",
      "Количество дубликатов:\n",
      "0\n"
     ]
    }
   ],
   "source": [
    "view_data(groups_add)"
   ]
  },
  {
   "cell_type": "code",
   "execution_count": 11,
   "metadata": {},
   "outputs": [
    {
     "data": {
      "text/plain": [
       "B    70\n",
       "A    22\n",
       "Name: grp, dtype: int64"
      ]
     },
     "execution_count": 11,
     "metadata": {},
     "output_type": "execute_result"
    }
   ],
   "source": [
    "groups_add.grp.value_counts()"
   ]
  },
  {
   "cell_type": "code",
   "execution_count": 12,
   "metadata": {},
   "outputs": [],
   "source": [
    "full_groups = pd.concat([groups, groups_add], axis=0) #соеденим датафреймы "
   ]
  },
  {
   "cell_type": "code",
   "execution_count": 13,
   "metadata": {},
   "outputs": [
    {
     "data": {
      "text/plain": [
       "True"
      ]
     },
     "execution_count": 13,
     "metadata": {},
     "output_type": "execute_result"
    }
   ],
   "source": [
    "#проверка\n",
    "\n",
    "len(groups)+len(groups_add)==len(full_groups) "
   ]
  },
  {
   "cell_type": "code",
   "execution_count": 14,
   "metadata": {},
   "outputs": [
    {
     "name": "stdout",
     "output_type": "stream",
     "text": [
      "Head:\n",
      "     id grp\n",
      "0  1489   B\n",
      "1  1627   A\n",
      "2  1768   B\n",
      "3  1783   B\n",
      "4  1794   A\n",
      "\n",
      "\n",
      "Количество строк и колонок:\n",
      "(74576, 2)\n",
      "\n",
      "\n",
      "Типы данных:\n",
      "id      int64\n",
      "grp    object\n",
      "dtype: object\n",
      "\n",
      "\n",
      "Пропущенные значения:\n",
      "id     0\n",
      "grp    0\n",
      "dtype: int64\n",
      "\n",
      "\n",
      "Количество дубликатов:\n",
      "0\n"
     ]
    }
   ],
   "source": [
    "view_data(full_groups)"
   ]
  },
  {
   "cell_type": "markdown",
   "metadata": {},
   "source": [
    "__active_studs__ - файл с информацией о пользователях, которые зашли на платформу в дни проведения эксперимента. "
   ]
  },
  {
   "cell_type": "code",
   "execution_count": 15,
   "metadata": {},
   "outputs": [
    {
     "name": "stdout",
     "output_type": "stream",
     "text": [
      "Head:\n",
      "   student_id\n",
      "0      581585\n",
      "1     5723133\n",
      "2     3276743\n",
      "3     4238589\n",
      "4     4475369\n",
      "\n",
      "\n",
      "Количество строк и колонок:\n",
      "(8341, 1)\n",
      "\n",
      "\n",
      "Типы данных:\n",
      "student_id    int64\n",
      "dtype: object\n",
      "\n",
      "\n",
      "Пропущенные значения:\n",
      "student_id    0\n",
      "dtype: int64\n",
      "\n",
      "\n",
      "Количество дубликатов:\n",
      "0\n"
     ]
    }
   ],
   "source": [
    "view_data(active_studs)"
   ]
  },
  {
   "cell_type": "code",
   "execution_count": 16,
   "metadata": {},
   "outputs": [
    {
     "name": "stdout",
     "output_type": "stream",
     "text": [
      "11.18% пользователей посетили сайт во время эксперимента\n"
     ]
    }
   ],
   "source": [
    "print(str(round(active_studs.shape[0] / full_groups.shape[0] * 100, 2)) \\\n",
    "                 + '% пользователей посетили сайт во время эксперимента')"
   ]
  },
  {
   "cell_type": "markdown",
   "metadata": {},
   "source": [
    "__checks__ - файл с информацией об оплатах пользователей в дни проведения эксперимента"
   ]
  },
  {
   "cell_type": "code",
   "execution_count": 17,
   "metadata": {},
   "outputs": [
    {
     "name": "stdout",
     "output_type": "stream",
     "text": [
      "Head:\n",
      "   student_id    rev\n",
      "0        1627  990.0\n",
      "1        3185  690.0\n",
      "2       25973  690.0\n",
      "3       26280  690.0\n",
      "4      100300  990.0\n",
      "\n",
      "\n",
      "Количество строк и колонок:\n",
      "(541, 2)\n",
      "\n",
      "\n",
      "Типы данных:\n",
      "student_id      int64\n",
      "rev           float64\n",
      "dtype: object\n",
      "\n",
      "\n",
      "Пропущенные значения:\n",
      "student_id    0\n",
      "rev           0\n",
      "dtype: int64\n",
      "\n",
      "\n",
      "Количество дубликатов:\n",
      "0\n"
     ]
    }
   ],
   "source": [
    "view_data(checks) "
   ]
  },
  {
   "cell_type": "code",
   "execution_count": 18,
   "metadata": {},
   "outputs": [],
   "source": [
    "#переименуем колонки \n",
    "\n",
    "active_studs.columns = ['id']\n",
    "checks.columns       = ['id', 'revenue']"
   ]
  },
  {
   "cell_type": "code",
   "execution_count": 19,
   "metadata": {},
   "outputs": [
    {
     "data": {
      "text/plain": [
       "149"
      ]
     },
     "execution_count": 19,
     "metadata": {},
     "output_type": "execute_result"
    }
   ],
   "source": [
    "# Пользователи оплатившие покупки, не все заходили на сайт \n",
    "\n",
    "checks.shape[0] - checks.merge(active_studs, on='id').shape[0]"
   ]
  },
  {
   "cell_type": "code",
   "execution_count": 20,
   "metadata": {},
   "outputs": [],
   "source": [
    "#проверим содержаться ли они в списке active_studs\n",
    "\n",
    "pay_on_site = checks.merge(active_studs, on='id')"
   ]
  },
  {
   "cell_type": "code",
   "execution_count": 21,
   "metadata": {},
   "outputs": [],
   "source": [
    "#пользователи совершившие покупки, но не заходившие на сайт\n",
    "\n",
    "not_pay_on_site = checks.query('id not in @pay_on_site.id')"
   ]
  },
  {
   "cell_type": "code",
   "execution_count": 22,
   "metadata": {},
   "outputs": [
    {
     "data": {
      "text/plain": [
       "0"
      ]
     },
     "execution_count": 22,
     "metadata": {},
     "output_type": "execute_result"
    }
   ],
   "source": [
    "# отлично, пользователи совершившие покупку не учитываются\n",
    "# как зашедшием на платформу в дни проведения эксперимента. \n",
    "\n",
    "len(active_studs.query('id in @not_pay_on_site.id'))"
   ]
  },
  {
   "cell_type": "code",
   "execution_count": 23,
   "metadata": {
    "scrolled": true
   },
   "outputs": [
    {
     "data": {
      "image/png": "[encoded data removed]",
      "text/plain": [
       "<Figure size 648x360 with 1 Axes>"
      ]
     },
     "metadata": {},
     "output_type": "display_data"
    }
   ],
   "source": [
    "pay_on_site.revenue.hist(bins=50);"
   ]
  },
  {
   "cell_type": "code",
   "execution_count": 24,
   "metadata": {},
   "outputs": [
    {
     "data": {
      "text/html": [
       "<div>\n",
       "<style scoped>\n",
       "    .dataframe tbody tr th:only-of-type {\n",
       "        vertical-align: middle;\n",
       "    }\n",
       "\n",
       "    .dataframe tbody tr th {\n",
       "        vertical-align: top;\n",
       "    }\n",
       "\n",
       "    .dataframe thead th {\n",
       "        text-align: right;\n",
       "    }\n",
       "</style>\n",
       "<table border=\"1\" class=\"dataframe\">\n",
       "  <thead>\n",
       "    <tr style=\"text-align: right;\">\n",
       "      <th></th>\n",
       "      <th>revenue</th>\n",
       "      <th>count</th>\n",
       "    </tr>\n",
       "  </thead>\n",
       "  <tbody>\n",
       "    <tr>\n",
       "      <th>0</th>\n",
       "      <td>1900.0000</td>\n",
       "      <td>93</td>\n",
       "    </tr>\n",
       "    <tr>\n",
       "      <th>1</th>\n",
       "      <td>290.0000</td>\n",
       "      <td>70</td>\n",
       "    </tr>\n",
       "    <tr>\n",
       "      <th>2</th>\n",
       "      <td>1900.0001</td>\n",
       "      <td>35</td>\n",
       "    </tr>\n",
       "    <tr>\n",
       "      <th>3</th>\n",
       "      <td>199.0000</td>\n",
       "      <td>32</td>\n",
       "    </tr>\n",
       "    <tr>\n",
       "      <th>4</th>\n",
       "      <td>840.0000</td>\n",
       "      <td>24</td>\n",
       "    </tr>\n",
       "    <tr>\n",
       "      <th>5</th>\n",
       "      <td>990.0000</td>\n",
       "      <td>22</td>\n",
       "    </tr>\n",
       "    <tr>\n",
       "      <th>6</th>\n",
       "      <td>690.0000</td>\n",
       "      <td>17</td>\n",
       "    </tr>\n",
       "    <tr>\n",
       "      <th>7</th>\n",
       "      <td>580.0000</td>\n",
       "      <td>11</td>\n",
       "    </tr>\n",
       "    <tr>\n",
       "      <th>8</th>\n",
       "      <td>590.0000</td>\n",
       "      <td>11</td>\n",
       "    </tr>\n",
       "    <tr>\n",
       "      <th>9</th>\n",
       "      <td>1140.0000</td>\n",
       "      <td>11</td>\n",
       "    </tr>\n",
       "  </tbody>\n",
       "</table>\n",
       "</div>"
      ],
      "text/plain": [
       "     revenue  count\n",
       "0  1900.0000     93\n",
       "1   290.0000     70\n",
       "2  1900.0001     35\n",
       "3   199.0000     32\n",
       "4   840.0000     24\n",
       "5   990.0000     22\n",
       "6   690.0000     17\n",
       "7   580.0000     11\n",
       "8   590.0000     11\n",
       "9  1140.0000     11"
      ]
     },
     "execution_count": 24,
     "metadata": {},
     "output_type": "execute_result"
    }
   ],
   "source": [
    "pay_on_site.revenue.value_counts().reset_index().rename(columns={'index':'revenue', 'revenue':'count'}).head(10)"
   ]
  },
  {
   "cell_type": "markdown",
   "metadata": {},
   "source": [
    "Среди пользователей совершивших покупку на сайте наблюдается множество чеков с revenue 1900 и 1900.0001. Что это сказать трудно, так как мы не знаем происхождения данных. Возможно, это выбросы.. Возможно по этой цене продавался акционный товар, например 'футболка' или, если мы школа онлайн образования, то это покупка нашего самого популярного курса. Можно предположить, что чеки чо значением 1900 доставлялись в пункт выдачи, а чеки с 1900.0001 курьером на дом. Или же от 1900 это минимальная сумма заказа для бесплатной доставки и тд. Разнообразных гипотез можно выдвинуть много... Далее, после объединения таблиц, мы определим к какой группе пользователей (целевой или контрольной) относятся такие чеки"
   ]
  },
  {
   "cell_type": "code",
   "execution_count": 25,
   "metadata": {
    "scrolled": false
   },
   "outputs": [],
   "source": [
    "#cоеденим все в итоговый датафрейм с которым уже можно работать\n",
    "#(остались только пользователи посетившие сайт во время эксперимента)\n",
    "\n",
    "df = active_studs.merge(full_groups, how='left', on='id').merge(pay_on_site, how='left', on='id')\n",
    "                                                        #.merge(checks, how='left', on='id') можно было итак,\n",
    "                                                        # т.к. останутся все равно только пользователи, которые\n",
    "                                                        # точно заходили на сайт, но я укажу явно "
   ]
  },
  {
   "cell_type": "code",
   "execution_count": 26,
   "metadata": {},
   "outputs": [],
   "source": [
    "df = df.rename(columns={'grp':'group'}).fillna(0) #переименуем колонку и избавимся от всех NaN"
   ]
  },
  {
   "cell_type": "code",
   "execution_count": 27,
   "metadata": {},
   "outputs": [
    {
     "name": "stdout",
     "output_type": "stream",
     "text": [
      "Head:\n",
      "        id group  revenue\n",
      "0   581585     A      0.0\n",
      "1  5723133     A      0.0\n",
      "2  3276743     B      0.0\n",
      "3  4238589     A      0.0\n",
      "4  4475369     B      0.0\n",
      "\n",
      "\n",
      "Количество строк и колонок:\n",
      "(8341, 3)\n",
      "\n",
      "\n",
      "Типы данных:\n",
      "id           int64\n",
      "group       object\n",
      "revenue    float64\n",
      "dtype: object\n",
      "\n",
      "\n",
      "Пропущенные значения:\n",
      "id         0\n",
      "group      0\n",
      "revenue    0\n",
      "dtype: int64\n",
      "\n",
      "\n",
      "Количество дубликатов:\n",
      "0\n"
     ]
    }
   ],
   "source": [
    "view_data(df)"
   ]
  },
  {
   "cell_type": "code",
   "execution_count": 28,
   "metadata": {
    "scrolled": true
   },
   "outputs": [
    {
     "data": {
      "image/png": "[encoded data removed]",
      "text/plain": [
       "<Figure size 648x360 with 1 Axes>"
      ]
     },
     "metadata": {},
     "output_type": "display_data"
    }
   ],
   "source": [
    "#в целевой группе данных в несколько раз больше\n",
    "\n",
    "df.group.value_counts().plot.pie();"
   ]
  },
  {
   "cell_type": "code",
   "execution_count": 29,
   "metadata": {
    "scrolled": true
   },
   "outputs": [
    {
     "data": {
      "image/png": "[encoded data removed]",
      "text/plain": [
       "<Figure size 648x360 with 1 Axes>"
      ]
     },
     "metadata": {},
     "output_type": "display_data"
    }
   ],
   "source": [
    "sns.histplot(data=df[df.revenue > 0], x ='revenue', hue ='group', bins=20);"
   ]
  },
  {
   "cell_type": "markdown",
   "metadata": {},
   "source": [
    "Выше уже отмечалось, что в районе 1900 имеется множество чеков, как оказалось они пренадлежат к целевой группе. Что это сказать все еще трудно. "
   ]
  },
  {
   "cell_type": "code",
   "execution_count": 30,
   "metadata": {},
   "outputs": [],
   "source": [
    "#добавим колонку с фактом оплаты. Она определенно нам понадобится в последующем \n",
    "\n",
    "df['purchase'] = df.revenue.apply(lambda x: 0 if x==0 else 1)"
   ]
  },
  {
   "cell_type": "code",
   "execution_count": 31,
   "metadata": {},
   "outputs": [
    {
     "data": {
      "text/plain": [
       "True"
      ]
     },
     "execution_count": 31,
     "metadata": {},
     "output_type": "execute_result"
    }
   ],
   "source": [
    "df[df.purchase > 0].shape[0] == pay_on_site.shape[0] #проверка "
   ]
  },
  {
   "cell_type": "code",
   "execution_count": 32,
   "metadata": {},
   "outputs": [
    {
     "data": {
      "text/html": [
       "<div>\n",
       "<style scoped>\n",
       "    .dataframe tbody tr th:only-of-type {\n",
       "        vertical-align: middle;\n",
       "    }\n",
       "\n",
       "    .dataframe tbody tr th {\n",
       "        vertical-align: top;\n",
       "    }\n",
       "\n",
       "    .dataframe thead th {\n",
       "        text-align: right;\n",
       "    }\n",
       "</style>\n",
       "<table border=\"1\" class=\"dataframe\">\n",
       "  <thead>\n",
       "    <tr style=\"text-align: right;\">\n",
       "      <th></th>\n",
       "      <th>id</th>\n",
       "      <th>group</th>\n",
       "      <th>revenue</th>\n",
       "      <th>purchase</th>\n",
       "    </tr>\n",
       "  </thead>\n",
       "  <tbody>\n",
       "    <tr>\n",
       "      <th>0</th>\n",
       "      <td>581585</td>\n",
       "      <td>A</td>\n",
       "      <td>0.0</td>\n",
       "      <td>0</td>\n",
       "    </tr>\n",
       "    <tr>\n",
       "      <th>1</th>\n",
       "      <td>5723133</td>\n",
       "      <td>A</td>\n",
       "      <td>0.0</td>\n",
       "      <td>0</td>\n",
       "    </tr>\n",
       "    <tr>\n",
       "      <th>2</th>\n",
       "      <td>3276743</td>\n",
       "      <td>B</td>\n",
       "      <td>0.0</td>\n",
       "      <td>0</td>\n",
       "    </tr>\n",
       "    <tr>\n",
       "      <th>3</th>\n",
       "      <td>4238589</td>\n",
       "      <td>A</td>\n",
       "      <td>0.0</td>\n",
       "      <td>0</td>\n",
       "    </tr>\n",
       "    <tr>\n",
       "      <th>4</th>\n",
       "      <td>4475369</td>\n",
       "      <td>B</td>\n",
       "      <td>0.0</td>\n",
       "      <td>0</td>\n",
       "    </tr>\n",
       "  </tbody>\n",
       "</table>\n",
       "</div>"
      ],
      "text/plain": [
       "        id group  revenue  purchase\n",
       "0   581585     A      0.0         0\n",
       "1  5723133     A      0.0         0\n",
       "2  3276743     B      0.0         0\n",
       "3  4238589     A      0.0         0\n",
       "4  4475369     B      0.0         0"
      ]
     },
     "execution_count": 32,
     "metadata": {},
     "output_type": "execute_result"
    }
   ],
   "source": [
    "df.head()"
   ]
  },
  {
   "cell_type": "markdown",
   "metadata": {},
   "source": [
    "----"
   ]
  },
  {
   "cell_type": "markdown",
   "metadata": {},
   "source": [
    "#### Вопросы\n",
    "\n",
    "\n",
    "- На какие метрики Вы смотрите в ходе анализа и почему?\n",
    "\n",
    "- Имеются ли различия в показателях и с чем они могут быть связаны?\n",
    "\n",
    "- Являются ли эти различия статистически значимыми?\n",
    "\n",
    "- Стоит ли запускать новую механику на всех пользователей?\n"
   ]
  },
  {
   "cell_type": "markdown",
   "metadata": {},
   "source": [
    "предлагаю рассмотреть следующие метрики:\n",
    "1. __CR__ (conversion rate) - конверсия или отношение числа пользователей совершившиех покупку к общему числу пользователей\n",
    "\n",
    "2. __ARPPU__ (Average revenue per paying user) - средний доход с платящего пользователя\n",
    "\n",
    "3. __APRU__ (Average revenue per user) - средний доход на одного пользователя среди всех пользователей\n",
    "\n",
    "\n",
    "На основе имеющихся данных это те метрики, которые мы можем оценить и они наиболее развернуто отразят результы проведенного a/b теста\n",
    "\n",
    "Основной метрикой будем считать __CR__, она отразит результат нашей гипотезы, напомню, что в ходе тестирования одной гипотезы целевой группе была предложена новая механика оплаты услуг на сайте, у контрольной группы оставалась базовая механика. "
   ]
  },
  {
   "cell_type": "code",
   "execution_count": 33,
   "metadata": {},
   "outputs": [],
   "source": [
    "#сгруппирум по группам, посчитаем количество id и сумму покупок\n",
    "\n",
    "stat = df.groupby('group', as_index=False) \\\n",
    "    .agg({'id':'count', 'revenue':'sum', 'purchase':'sum'})"
   ]
  },
  {
   "cell_type": "code",
   "execution_count": 34,
   "metadata": {},
   "outputs": [],
   "source": [
    "stat.columns = ['group', 'id_count', 'sum_revenue', 'sum_purchase'] #переименуем колонки"
   ]
  },
  {
   "cell_type": "code",
   "execution_count": 35,
   "metadata": {},
   "outputs": [],
   "source": [
    "#посчитаем метрики\n",
    "\n",
    "stat['CR']    = round(stat.sum_purchase/stat.id_count * 100, 2)\n",
    "stat['ARPPU'] = round(stat.sum_revenue/stat.sum_purchase, 2)\n",
    "stat['ARPU']  = round(stat.sum_revenue/stat.id_count, 2)"
   ]
  },
  {
   "cell_type": "code",
   "execution_count": 36,
   "metadata": {},
   "outputs": [
    {
     "data": {
      "text/html": [
       "<div>\n",
       "<style scoped>\n",
       "    .dataframe tbody tr th:only-of-type {\n",
       "        vertical-align: middle;\n",
       "    }\n",
       "\n",
       "    .dataframe tbody tr th {\n",
       "        vertical-align: top;\n",
       "    }\n",
       "\n",
       "    .dataframe thead th {\n",
       "        text-align: right;\n",
       "    }\n",
       "</style>\n",
       "<table border=\"1\" class=\"dataframe\">\n",
       "  <thead>\n",
       "    <tr style=\"text-align: right;\">\n",
       "      <th></th>\n",
       "      <th>group</th>\n",
       "      <th>id_count</th>\n",
       "      <th>sum_revenue</th>\n",
       "      <th>sum_purchase</th>\n",
       "      <th>CR</th>\n",
       "      <th>ARPPU</th>\n",
       "      <th>ARPU</th>\n",
       "    </tr>\n",
       "  </thead>\n",
       "  <tbody>\n",
       "    <tr>\n",
       "      <th>0</th>\n",
       "      <td>A</td>\n",
       "      <td>1538</td>\n",
       "      <td>72820.0000</td>\n",
       "      <td>78</td>\n",
       "      <td>5.07</td>\n",
       "      <td>933.59</td>\n",
       "      <td>47.35</td>\n",
       "    </tr>\n",
       "    <tr>\n",
       "      <th>1</th>\n",
       "      <td>B</td>\n",
       "      <td>6803</td>\n",
       "      <td>394974.0035</td>\n",
       "      <td>314</td>\n",
       "      <td>4.62</td>\n",
       "      <td>1257.88</td>\n",
       "      <td>58.06</td>\n",
       "    </tr>\n",
       "  </tbody>\n",
       "</table>\n",
       "</div>"
      ],
      "text/plain": [
       "  group  id_count  sum_revenue  sum_purchase    CR    ARPPU   ARPU\n",
       "0     A      1538   72820.0000            78  5.07   933.59  47.35\n",
       "1     B      6803  394974.0035           314  4.62  1257.88  58.06"
      ]
     },
     "execution_count": 36,
     "metadata": {},
     "output_type": "execute_result"
    }
   ],
   "source": [
    "stat"
   ]
  },
  {
   "cell_type": "code",
   "execution_count": 37,
   "metadata": {},
   "outputs": [
    {
     "data": {
      "image/png": "[encoded data removed]",
      "text/plain": [
       "<Figure size 2160x360 with 3 Axes>"
      ]
     },
     "metadata": {},
     "output_type": "display_data"
    }
   ],
   "source": [
    "# создание подграфиков\n",
    "fig, axs = plt.subplots(1, 3, figsize=(30, 5))\n",
    "\n",
    "# построение столбчатых диаграмм с помощью sns.barplot()\n",
    "sns.barplot(data=stat, x='group', y='CR', ax=axs[0])\n",
    "axs[0].set_title('CR')\n",
    "sns.barplot(data=stat, x='group', y='ARPPU', ax=axs[1])\n",
    "axs[1].set_title('ARPPU')\n",
    "sns.barplot(data=stat, x='group', y='ARPU', ax=axs[2])\n",
    "axs[2].set_title('ARPU')\n",
    "\n",
    "plt.show()\n"
   ]
  },
  {
   "cell_type": "markdown",
   "metadata": {},
   "source": [
    "На графиках видно, что конверсия упала, а средний доход вырос. Перед нами стоит вопром являются ли эти различия статистически значимыми и стоит ли вообще запускать новую механику на всех пользователей?\n",
    "\n",
    "\n",
    "\n",
    "#### Гипотезы для измеряемых метрик\n",
    "- Нулевая гипотеза (H0) - изменений в сравниваемых группах нет \n",
    "- Альтернативня гипотеза (H1) - имеются статистически значимымые изменения"
   ]
  },
  {
   "cell_type": "markdown",
   "metadata": {},
   "source": [
    "проверим распределения на нормальность. Это можно сделать с помощью гистограммы, если она будет выглядеть\n",
    "нормально, то подтвердим нормальность с помощью теста Шапиро-Уилка"
   ]
  },
  {
   "cell_type": "code",
   "execution_count": 38,
   "metadata": {},
   "outputs": [],
   "source": [
    "#для начала разделим контрольную и целевую группу\n",
    "\n",
    "\n",
    "control = df[df.group == 'A']\n",
    "test   = df[df.group == 'B']\n"
   ]
  },
  {
   "cell_type": "code",
   "execution_count": 39,
   "metadata": {},
   "outputs": [
    {
     "data": {
      "image/png": "[encoded data removed]",
      "text/plain": [
       "<Figure size 648x360 with 1 Axes>"
      ]
     },
     "metadata": {},
     "output_type": "display_data"
    }
   ],
   "source": [
    "control.revenue.hist();"
   ]
  },
  {
   "cell_type": "code",
   "execution_count": 40,
   "metadata": {},
   "outputs": [
    {
     "data": {
      "image/png": "[encoded data removed]",
      "text/plain": [
       "<Figure size 648x360 with 1 Axes>"
      ]
     },
     "metadata": {},
     "output_type": "display_data"
    }
   ],
   "source": [
    "test.revenue.hist();"
   ]
  },
  {
   "cell_type": "markdown",
   "metadata": {},
   "source": [
    "как мы видим и без теста Шапиро-Уилка распределения не нормальны"
   ]
  },
  {
   "cell_type": "markdown",
   "metadata": {},
   "source": [
    "### Проверим различия в конверсиях CR"
   ]
  },
  {
   "cell_type": "markdown",
   "metadata": {},
   "source": [
    "Так как сравниваемые группы имееют категориальную величину воспользуемся Критерием Хи-квадрат (или критерий согласия Пирсона)\n",
    "\n",
    "Критерий Хи-квадрат используется для проверки гипотезы о том, что две группы имеют одинаковые распределения для определенной категориальной переменной. Он работает путем сравнения наблюдаемых частот категорий в каждой выборке с ожидаемыми частотами, которые могут быть рассчитаны на основе гипотезы о равных распределениях"
   ]
  },
  {
   "cell_type": "code",
   "execution_count": 41,
   "metadata": {},
   "outputs": [
    {
     "data": {
      "text/html": [
       "<div>\n",
       "<style scoped>\n",
       "    .dataframe tbody tr th:only-of-type {\n",
       "        vertical-align: middle;\n",
       "    }\n",
       "\n",
       "    .dataframe tbody tr th {\n",
       "        vertical-align: top;\n",
       "    }\n",
       "\n",
       "    .dataframe thead th {\n",
       "        text-align: right;\n",
       "    }\n",
       "</style>\n",
       "<table border=\"1\" class=\"dataframe\">\n",
       "  <thead>\n",
       "    <tr style=\"text-align: right;\">\n",
       "      <th></th>\n",
       "      <th>id</th>\n",
       "      <th>group</th>\n",
       "      <th>revenue</th>\n",
       "      <th>purchase</th>\n",
       "    </tr>\n",
       "  </thead>\n",
       "  <tbody>\n",
       "    <tr>\n",
       "      <th>0</th>\n",
       "      <td>581585</td>\n",
       "      <td>A</td>\n",
       "      <td>0.0</td>\n",
       "      <td>0</td>\n",
       "    </tr>\n",
       "    <tr>\n",
       "      <th>1</th>\n",
       "      <td>5723133</td>\n",
       "      <td>A</td>\n",
       "      <td>0.0</td>\n",
       "      <td>0</td>\n",
       "    </tr>\n",
       "    <tr>\n",
       "      <th>2</th>\n",
       "      <td>3276743</td>\n",
       "      <td>B</td>\n",
       "      <td>0.0</td>\n",
       "      <td>0</td>\n",
       "    </tr>\n",
       "    <tr>\n",
       "      <th>3</th>\n",
       "      <td>4238589</td>\n",
       "      <td>A</td>\n",
       "      <td>0.0</td>\n",
       "      <td>0</td>\n",
       "    </tr>\n",
       "    <tr>\n",
       "      <th>4</th>\n",
       "      <td>4475369</td>\n",
       "      <td>B</td>\n",
       "      <td>0.0</td>\n",
       "      <td>0</td>\n",
       "    </tr>\n",
       "  </tbody>\n",
       "</table>\n",
       "</div>"
      ],
      "text/plain": [
       "        id group  revenue  purchase\n",
       "0   581585     A      0.0         0\n",
       "1  5723133     A      0.0         0\n",
       "2  3276743     B      0.0         0\n",
       "3  4238589     A      0.0         0\n",
       "4  4475369     B      0.0         0"
      ]
     },
     "execution_count": 41,
     "metadata": {},
     "output_type": "execute_result"
    }
   ],
   "source": [
    "df.head()"
   ]
  },
  {
   "cell_type": "code",
   "execution_count": 42,
   "metadata": {},
   "outputs": [
    {
     "name": "stdout",
     "output_type": "stream",
     "text": [
      "Хи-квадрат статистика:  0.48480826522557896\n",
      "p-значение:  0.48625240457231045\n",
      "\n",
      "\n",
      "p-value 0.486 > 0.05, принимаем нулевую гипотезу (конверсии статистически значимо не отличаются)\n"
     ]
    }
   ],
   "source": [
    "# выполняем хи-квадрат тест\n",
    "table = pd.crosstab(df.group, df.purchase) #таблица сопряженности\n",
    "chi2, pval, dof, expected = chi2_contingency(table)  #применяем функцию из модуля scipy.stats\n",
    "\n",
    "# выводим результаты\n",
    "print('Хи-квадрат статистика: ', chi2)\n",
    "print('p-значение: ', pval)\n",
    "print()\n",
    "print()\n",
    "if pval > 0.05:\n",
    "    print(f'p-value {round(pval, 3)} > 0.05, принимаем нулевую гипотезу (конверсии статистически значимо не отличаются)')\n",
    "else:\n",
    "    print(f'p-value {round(pval, 3)} < 0.05, принимаем альтернативную гипотезу (конверсии отличаются статистически значимо)')"
   ]
  },
  {
   "cell_type": "markdown",
   "metadata": {},
   "source": [
    "### Сравним ARPPU"
   ]
  },
  {
   "cell_type": "markdown",
   "metadata": {},
   "source": [
    "Для сравнения ARPPU и ARPU будем использовать Bootstrap. T-test не подойдет, так как распределения не имееют нормального вида. Критерий Манна-Уитни не стоит использовать так как есть множество значений в районе 1900"
   ]
  },
  {
   "cell_type": "code",
   "execution_count": 43,
   "metadata": {},
   "outputs": [],
   "source": [
    "def get_bootstrap(\n",
    "    data_column_1, # числовые значения первой выборки\n",
    "    data_column_2, # числовые значения второй выборки\n",
    "    boot_it = 1000, # количество бутстрэп-подвыборок\n",
    "    statistic = np.mean, # интересующая нас статистика\n",
    "    bootstrap_conf_level = 0.95 # уровень значимости\n",
    "):\n",
    "    boot_len = max([len(data_column_1), len(data_column_2)])\n",
    "    boot_data = []\n",
    "    for i in tqdm(range(boot_it)): # извлекаем подвыборки\n",
    "        samples_1 = data_column_1.sample(\n",
    "            boot_len, \n",
    "            replace = True # параметр возвращения\n",
    "        ).values\n",
    "        \n",
    "        samples_2 = data_column_2.sample(\n",
    "            boot_len, \n",
    "            replace = True\n",
    "        ).values\n",
    "        \n",
    "        boot_data.append(statistic(samples_1)-statistic(samples_2)) # mean() - применяем статистику\n",
    "        \n",
    "    pd_boot_data = pd.DataFrame(boot_data)\n",
    "        \n",
    "    left_quant = (1 - bootstrap_conf_level)/2\n",
    "    right_quant = 1 - (1 - bootstrap_conf_level) / 2\n",
    "    quants = pd_boot_data.quantile([left_quant, right_quant])\n",
    "        \n",
    "    p_1 = norm.cdf(\n",
    "        x = 0, \n",
    "        loc = np.mean(boot_data), \n",
    "        scale = np.std(boot_data)\n",
    "    )\n",
    "    p_2 = norm.cdf(\n",
    "        x = 0, \n",
    "        loc = -np.mean(boot_data), \n",
    "        scale = np.std(boot_data)\n",
    "    )\n",
    "    p_value = min(p_1, p_2) * 2\n",
    "        \n",
    "    # Визуализация\n",
    "    _, _, bars = plt.hist(pd_boot_data[0], bins = 50)\n",
    "    for bar in bars:\n",
    "        if bar.get_x() <= quants.iloc[0][0] or bar.get_x() >= quants.iloc[1][0]:\n",
    "            bar.set_facecolor('red')\n",
    "        else: \n",
    "            bar.set_facecolor('grey')\n",
    "            bar.set_edgecolor('black')\n",
    "    \n",
    "    plt.style.use('ggplot')\n",
    "    plt.vlines(quants,ymin=0,ymax=50,linestyle='--')\n",
    "    plt.xlabel('boot_data')\n",
    "    plt.ylabel('frequency')\n",
    "    plt.title(\"Histogram of boot_data\")\n",
    "    plt.show()\n",
    "       \n",
    "    return {\"boot_data\": boot_data, \n",
    "            \"quants\": quants, \n",
    "            \"p_value\": p_value}"
   ]
  },
  {
   "cell_type": "code",
   "execution_count": 44,
   "metadata": {},
   "outputs": [],
   "source": [
    "test_list_1 = test[test.purchase == 1].revenue"
   ]
  },
  {
   "cell_type": "code",
   "execution_count": 45,
   "metadata": {},
   "outputs": [],
   "source": [
    "control_list_1 = control[control.purchase == 1].revenue"
   ]
  },
  {
   "cell_type": "code",
   "execution_count": 46,
   "metadata": {
    "scrolled": false
   },
   "outputs": [
    {
     "data": {
      "application/vnd.jupyter.widget-view+json": {
       "model_id": "cf307e837fc340d59c9f48ebdf3bf65c",
       "version_major": 2,
       "version_minor": 0
      },
      "text/plain": [
       "HBox(children=(FloatProgress(value=0.0, max=1000.0), HTML(value='')))"
      ]
     },
     "metadata": {},
     "output_type": "display_data"
    },
    {
     "name": "stdout",
     "output_type": "stream",
     "text": [
      "\n"
     ]
    },
    {
     "data": {
      "image/png": "[encoded data removed]",
      "text/plain": [
       "<Figure size 648x360 with 1 Axes>"
      ]
     },
     "metadata": {},
     "output_type": "display_data"
    }
   ],
   "source": [
    "booted_data = get_bootstrap(test_list_1, control_list_1); #применяем бутстрэп"
   ]
  },
  {
   "cell_type": "code",
   "execution_count": 47,
   "metadata": {},
   "outputs": [
    {
     "data": {
      "text/plain": [
       "8.101009119983694e-07"
      ]
     },
     "execution_count": 47,
     "metadata": {},
     "output_type": "execute_result"
    }
   ],
   "source": [
    "booted_data[\"p_value\"] # альфа"
   ]
  },
  {
   "cell_type": "code",
   "execution_count": 48,
   "metadata": {},
   "outputs": [
    {
     "data": {
      "text/html": [
       "<div>\n",
       "<style scoped>\n",
       "    .dataframe tbody tr th:only-of-type {\n",
       "        vertical-align: middle;\n",
       "    }\n",
       "\n",
       "    .dataframe tbody tr th {\n",
       "        vertical-align: top;\n",
       "    }\n",
       "\n",
       "    .dataframe thead th {\n",
       "        text-align: right;\n",
       "    }\n",
       "</style>\n",
       "<table border=\"1\" class=\"dataframe\">\n",
       "  <thead>\n",
       "    <tr style=\"text-align: right;\">\n",
       "      <th></th>\n",
       "      <th>0</th>\n",
       "    </tr>\n",
       "  </thead>\n",
       "  <tbody>\n",
       "    <tr>\n",
       "      <th>0.025</th>\n",
       "      <td>193.537510</td>\n",
       "    </tr>\n",
       "    <tr>\n",
       "      <th>0.975</th>\n",
       "      <td>451.243245</td>\n",
       "    </tr>\n",
       "  </tbody>\n",
       "</table>\n",
       "</div>"
      ],
      "text/plain": [
       "                0\n",
       "0.025  193.537510\n",
       "0.975  451.243245"
      ]
     },
     "execution_count": 48,
     "metadata": {},
     "output_type": "execute_result"
    }
   ],
   "source": [
    "booted_data[\"quants\"] # ДИ"
   ]
  },
  {
   "cell_type": "markdown",
   "metadata": {},
   "source": [
    "По результатам теста принимаем альтернативную гипотезу. p-value гораздо ниже уровня значимости 0.05, что говорит об значимых статистических изменениях в среднем доходе от платящего пользователя"
   ]
  },
  {
   "cell_type": "code",
   "execution_count": 49,
   "metadata": {},
   "outputs": [
    {
     "data": {
      "application/vnd.jupyter.widget-view+json": {
       "model_id": "db965c7a4427453b97faad676b0fa154",
       "version_major": 2,
       "version_minor": 0
      },
      "text/plain": [
       "HBox(children=(FloatProgress(value=0.0, max=1000.0), HTML(value='')))"
      ]
     },
     "metadata": {},
     "output_type": "display_data"
    },
    {
     "name": "stdout",
     "output_type": "stream",
     "text": [
      "\n"
     ]
    },
    {
     "data": {
      "image/png": "[encoded data removed]",
      "text/plain": [
       "<Figure size 648x360 with 1 Axes>"
      ]
     },
     "metadata": {},
     "output_type": "display_data"
    },
    {
     "name": "stdout",
     "output_type": "stream",
     "text": [
      "0.17194660169194076\n",
      "0.5453040743963742\n"
     ]
    }
   ],
   "source": [
    "#Ради только интереса проведем тест на сравниваемые группы без чеков с суммой 1900\n",
    "\n",
    "_ = test.query('revenue != \"1900\" and revenue != \"1900.0001\" and purchase == 1').revenue\n",
    "\n",
    "booted_data = get_bootstrap(_, control_list_1)\n",
    "\n",
    "print(booted_data[\"p_value\"]) # альфа\n",
    "print(mannwhitneyu(_, control_list_1)[1])"
   ]
  },
  {
   "cell_type": "markdown",
   "metadata": {},
   "source": [
    "Бутсрэп и критерий Манна-Уитни в этом случае говорят, что статистически значимых изменений нет"
   ]
  },
  {
   "cell_type": "markdown",
   "metadata": {},
   "source": [
    "### Сравним ARPU"
   ]
  },
  {
   "cell_type": "code",
   "execution_count": 50,
   "metadata": {},
   "outputs": [
    {
     "data": {
      "application/vnd.jupyter.widget-view+json": {
       "model_id": "ad097db48e044e27aefb210923defb84",
       "version_major": 2,
       "version_minor": 0
      },
      "text/plain": [
       "HBox(children=(FloatProgress(value=0.0, max=1000.0), HTML(value='')))"
      ]
     },
     "metadata": {},
     "output_type": "display_data"
    },
    {
     "name": "stdout",
     "output_type": "stream",
     "text": [
      "\n"
     ]
    },
    {
     "data": {
      "image/png": "[encoded data removed]",
      "text/plain": [
       "<Figure size 648x360 with 1 Axes>"
      ]
     },
     "metadata": {},
     "output_type": "display_data"
    }
   ],
   "source": [
    "booted_data = get_bootstrap(test.purchase, control.purchase); #применяем бутсрэп"
   ]
  },
  {
   "cell_type": "code",
   "execution_count": 51,
   "metadata": {},
   "outputs": [
    {
     "data": {
      "text/plain": [
       "0.23556871600694906"
      ]
     },
     "execution_count": 51,
     "metadata": {},
     "output_type": "execute_result"
    }
   ],
   "source": [
    "booted_data[\"p_value\"] # альфа"
   ]
  },
  {
   "cell_type": "code",
   "execution_count": 52,
   "metadata": {},
   "outputs": [
    {
     "data": {
      "text/html": [
       "<div>\n",
       "<style scoped>\n",
       "    .dataframe tbody tr th:only-of-type {\n",
       "        vertical-align: middle;\n",
       "    }\n",
       "\n",
       "    .dataframe tbody tr th {\n",
       "        vertical-align: top;\n",
       "    }\n",
       "\n",
       "    .dataframe thead th {\n",
       "        text-align: right;\n",
       "    }\n",
       "</style>\n",
       "<table border=\"1\" class=\"dataframe\">\n",
       "  <thead>\n",
       "    <tr style=\"text-align: right;\">\n",
       "      <th></th>\n",
       "      <th>0</th>\n",
       "    </tr>\n",
       "  </thead>\n",
       "  <tbody>\n",
       "    <tr>\n",
       "      <th>0.025</th>\n",
       "      <td>-0.012057</td>\n",
       "    </tr>\n",
       "    <tr>\n",
       "      <th>0.975</th>\n",
       "      <td>0.003087</td>\n",
       "    </tr>\n",
       "  </tbody>\n",
       "</table>\n",
       "</div>"
      ],
      "text/plain": [
       "              0\n",
       "0.025 -0.012057\n",
       "0.975  0.003087"
      ]
     },
     "execution_count": 52,
     "metadata": {},
     "output_type": "execute_result"
    }
   ],
   "source": [
    "booted_data[\"quants\"] # ДИ"
   ]
  },
  {
   "cell_type": "code",
   "execution_count": 53,
   "metadata": {},
   "outputs": [
    {
     "data": {
      "text/plain": [
       "'P-value равен 0.24. Средний чек среди всех пользователей значимо не различился. Принимаем нулевую гипотезу'"
      ]
     },
     "execution_count": 53,
     "metadata": {},
     "output_type": "execute_result"
    }
   ],
   "source": [
    "f'P-value равен {round(booted_data[\"p_value\"], 2)}. Средний чек среди всех пользователей значимо не различился. Принимаем нулевую гипотезу'"
   ]
  },
  {
   "cell_type": "markdown",
   "metadata": {},
   "source": [
    "### Вывод\n",
    "1. Новая механика статистически значимо не повлияла на Конверсию в покупку при использовании сайта;\n",
    "2. ARPPU значимо вырос, но могло ли изменение механики оплаты на сайте повлиять на это? Возможно, параллельно проводились и другие A/B тесты. Например, была запущенна какая-либо акция при покупках на большие чеки (повышенные бонусы, подарок к покупке и тд)\n",
    "3. Измений в ARPU статистически значимых нет.\n",
    "#### Новую механику оплаты на сайте запускать пока что не нужно. Конверсия не стат значимо, но  упала. Почему вырос ARPPU? Это нужно будет проанализировать в отдельном тесте, новая механика оплаты вряд ли могла повлиять на ее рост. Так же обратим в очередной раз внимание  на чеки 1900, которые похожи на выбросы,  без них, стат значимых изменений не было бы. \n"
   ]
  },
  {
   "cell_type": "markdown",
   "metadata": {},
   "source": [
    "____"
   ]
  },
  {
   "cell_type": "markdown",
   "metadata": {},
   "source": [
    "___"
   ]
  },
  {
   "cell_type": "markdown",
   "metadata": {},
   "source": [
    "# Задание 2. SQL"
   ]
  },
  {
   "cell_type": "markdown",
   "metadata": {},
   "source": [
    "### 2.1 Очень усердные ученики.\n",
    "\n",
    "Образовательные курсы состоят из различных уроков, каждый из которых состоит из нескольких маленьких заданий. Каждое такое маленькое задание называется \"горошиной\".\n",
    "\n",
    "Назовём очень усердным учеником того пользователя, который хотя бы раз за текущий месяц правильно решил 20 горошин."
   ]
  },
  {
   "cell_type": "markdown",
   "metadata": {},
   "source": [
    "_Необходимо написать оптимальный запрос, который даст информацию о количестве очень усердных студентов.NB! Под усердным студентом мы понимаем студента, который правильно решил 20 задач за текущий месяц._"
   ]
  },
  {
   "cell_type": "code",
   "execution_count": 54,
   "metadata": {},
   "outputs": [],
   "source": [
    "#подключаемсся к ClickHouse\n",
    "\n",
    "connection = dict(database='default',\n",
    "                  host='https://clickhouse.lab.karpov.courses',\n",
    "                  user='student',\n",
    "                  password='dpo_python_2020')"
   ]
  },
  {
   "cell_type": "code",
   "execution_count": 55,
   "metadata": {},
   "outputs": [
    {
     "data": {
      "text/html": [
       "<div>\n",
       "<style scoped>\n",
       "    .dataframe tbody tr th:only-of-type {\n",
       "        vertical-align: middle;\n",
       "    }\n",
       "\n",
       "    .dataframe tbody tr th {\n",
       "        vertical-align: top;\n",
       "    }\n",
       "\n",
       "    .dataframe thead th {\n",
       "        text-align: right;\n",
       "    }\n",
       "</style>\n",
       "<table border=\"1\" class=\"dataframe\">\n",
       "  <thead>\n",
       "    <tr style=\"text-align: right;\">\n",
       "      <th></th>\n",
       "      <th>st_id</th>\n",
       "      <th>timest</th>\n",
       "      <th>correct</th>\n",
       "      <th>subject</th>\n",
       "    </tr>\n",
       "  </thead>\n",
       "  <tbody>\n",
       "    <tr>\n",
       "      <th>0</th>\n",
       "      <td>100379</td>\n",
       "      <td>2021-10-30 13:32:29</td>\n",
       "      <td>1</td>\n",
       "      <td>Theory of probability</td>\n",
       "    </tr>\n",
       "    <tr>\n",
       "      <th>1</th>\n",
       "      <td>100379</td>\n",
       "      <td>2021-10-30 14:11:19</td>\n",
       "      <td>0</td>\n",
       "      <td>Vizualization</td>\n",
       "    </tr>\n",
       "    <tr>\n",
       "      <th>2</th>\n",
       "      <td>100379</td>\n",
       "      <td>2021-10-30 15:54:22</td>\n",
       "      <td>1</td>\n",
       "      <td>Theory of probability</td>\n",
       "    </tr>\n",
       "    <tr>\n",
       "      <th>3</th>\n",
       "      <td>100379</td>\n",
       "      <td>2021-10-30 16:44:50</td>\n",
       "      <td>1</td>\n",
       "      <td>Vizualization</td>\n",
       "    </tr>\n",
       "    <tr>\n",
       "      <th>4</th>\n",
       "      <td>100379</td>\n",
       "      <td>2021-10-30 17:15:05</td>\n",
       "      <td>1</td>\n",
       "      <td>Theory of probability</td>\n",
       "    </tr>\n",
       "  </tbody>\n",
       "</table>\n",
       "</div>"
      ],
      "text/plain": [
       "    st_id              timest  correct                subject\n",
       "0  100379 2021-10-30 13:32:29        1  Theory of probability\n",
       "1  100379 2021-10-30 14:11:19        0          Vizualization\n",
       "2  100379 2021-10-30 15:54:22        1  Theory of probability\n",
       "3  100379 2021-10-30 16:44:50        1          Vizualization\n",
       "4  100379 2021-10-30 17:15:05        1  Theory of probability"
      ]
     },
     "execution_count": 55,
     "metadata": {},
     "output_type": "execute_result"
    }
   ],
   "source": [
    "#посмотрим на таблицу default.peas\n",
    "\n",
    "query = '''\n",
    "    SELECT\n",
    "        st_id,\n",
    "        toDateTime(timest) as timest,\n",
    "        correct,\n",
    "        subject\n",
    "    FROM default.peas\n",
    "    LIMIT 5\n",
    "'''\n",
    "\n",
    "peas = ph.read_clickhouse(query, connection=connection) #получаем данные из clickhouse в pandas dataframe\n",
    "peas"
   ]
  },
  {
   "cell_type": "code",
   "execution_count": 56,
   "metadata": {},
   "outputs": [
    {
     "data": {
      "text/html": [
       "<div>\n",
       "<style scoped>\n",
       "    .dataframe tbody tr th:only-of-type {\n",
       "        vertical-align: middle;\n",
       "    }\n",
       "\n",
       "    .dataframe tbody tr th {\n",
       "        vertical-align: top;\n",
       "    }\n",
       "\n",
       "    .dataframe thead th {\n",
       "        text-align: right;\n",
       "    }\n",
       "</style>\n",
       "<table border=\"1\" class=\"dataframe\">\n",
       "  <thead>\n",
       "    <tr style=\"text-align: right;\">\n",
       "      <th></th>\n",
       "      <th>count_diligent_student</th>\n",
       "    </tr>\n",
       "  </thead>\n",
       "  <tbody>\n",
       "    <tr>\n",
       "      <th>0</th>\n",
       "      <td>136</td>\n",
       "    </tr>\n",
       "  </tbody>\n",
       "</table>\n",
       "</div>"
      ],
      "text/plain": [
       "   count_diligent_student\n",
       "0                     136"
      ]
     },
     "execution_count": 56,
     "metadata": {},
     "output_type": "execute_result"
    }
   ],
   "source": [
    "query = '''\n",
    "SELECT count(st_id) count_diligent_student\n",
    "FROM\n",
    "    (  \n",
    "    SELECT\n",
    "        DISTINCT(st_id),\n",
    "        sum(correct) sum_correct\n",
    "    FROM default.peas\n",
    "    GROUP by st_id\n",
    "    HAVING sum_correct >= 20\n",
    "    )\n",
    "'''\n",
    "\n",
    "count_diligent_student = ph.read_clickhouse(query, connection=connection) #получаем данные из clickhouse в pandas dataframe\n",
    "count_diligent_student"
   ]
  },
  {
   "cell_type": "code",
   "execution_count": 57,
   "metadata": {},
   "outputs": [
    {
     "name": "stdout",
     "output_type": "stream",
     "text": [
      "Количество очень усердных студентов - 136\n"
     ]
    }
   ],
   "source": [
    "print(f'Количество очень усердных студентов - {count_diligent_student.count_diligent_student[0]}')"
   ]
  },
  {
   "cell_type": "markdown",
   "metadata": {},
   "source": [
    "---"
   ]
  },
  {
   "cell_type": "markdown",
   "metadata": {},
   "source": [
    "### 2.2 Оптимизация воронки"
   ]
  },
  {
   "cell_type": "markdown",
   "metadata": {},
   "source": [
    "Образовательная платформа предлагает пройти студентам курсы по модели trial: студент может решить бесплатно лишь 30 горошин в день. Для неограниченного количества заданий в определенной дисциплине студенту необходимо приобрести полный доступ. Команда провела эксперимент, где был протестирован новый экран оплаты."
   ]
  },
  {
   "cell_type": "markdown",
   "metadata": {},
   "source": [
    "### Задача\n",
    "Необходимо в одном запросе выгрузить следующую информацию о группах пользователей:\n",
    "\n",
    "__ARPU__\n",
    "\n",
    "__ARPAU__\n",
    "\n",
    "__CR__ в покупку \n",
    "\n",
    "__СR__ активного пользователя в покупку \n",
    "\n",
    "__CR__ пользователя из активности по математике (subject = ’math’) в покупку курса по математике\n",
    "\n",
    "__ARPU__ считается относительно всех пользователей, попавших в группы.\n",
    "\n",
    "\n",
    "Активным считается пользователь, за все время решивший больше __10__ задач правильно в любых дисциплинах.\n",
    "\n",
    "Активным по математике считается пользователь, за все время решивший __2__ или больше задач правильно по математике."
   ]
  },
  {
   "cell_type": "markdown",
   "metadata": {},
   "source": [
    "дано три таблицы __*default.peas, default.studs и default.final_project_check*__ для начала посмотрим на них"
   ]
  },
  {
   "cell_type": "code",
   "execution_count": 58,
   "metadata": {},
   "outputs": [
    {
     "data": {
      "text/html": [
       "<div>\n",
       "<style scoped>\n",
       "    .dataframe tbody tr th:only-of-type {\n",
       "        vertical-align: middle;\n",
       "    }\n",
       "\n",
       "    .dataframe tbody tr th {\n",
       "        vertical-align: top;\n",
       "    }\n",
       "\n",
       "    .dataframe thead th {\n",
       "        text-align: right;\n",
       "    }\n",
       "</style>\n",
       "<table border=\"1\" class=\"dataframe\">\n",
       "  <thead>\n",
       "    <tr style=\"text-align: right;\">\n",
       "      <th></th>\n",
       "      <th>st_id</th>\n",
       "      <th>timest</th>\n",
       "      <th>correct</th>\n",
       "      <th>subject</th>\n",
       "    </tr>\n",
       "  </thead>\n",
       "  <tbody>\n",
       "    <tr>\n",
       "      <th>0</th>\n",
       "      <td>100379</td>\n",
       "      <td>2021-10-30 13:32:29</td>\n",
       "      <td>1</td>\n",
       "      <td>Theory of probability</td>\n",
       "    </tr>\n",
       "    <tr>\n",
       "      <th>1</th>\n",
       "      <td>100379</td>\n",
       "      <td>2021-10-30 14:11:19</td>\n",
       "      <td>0</td>\n",
       "      <td>Vizualization</td>\n",
       "    </tr>\n",
       "    <tr>\n",
       "      <th>2</th>\n",
       "      <td>100379</td>\n",
       "      <td>2021-10-30 15:54:22</td>\n",
       "      <td>1</td>\n",
       "      <td>Theory of probability</td>\n",
       "    </tr>\n",
       "    <tr>\n",
       "      <th>3</th>\n",
       "      <td>100379</td>\n",
       "      <td>2021-10-30 16:44:50</td>\n",
       "      <td>1</td>\n",
       "      <td>Vizualization</td>\n",
       "    </tr>\n",
       "    <tr>\n",
       "      <th>4</th>\n",
       "      <td>100379</td>\n",
       "      <td>2021-10-30 17:15:05</td>\n",
       "      <td>1</td>\n",
       "      <td>Theory of probability</td>\n",
       "    </tr>\n",
       "  </tbody>\n",
       "</table>\n",
       "</div>"
      ],
      "text/plain": [
       "    st_id              timest  correct                subject\n",
       "0  100379 2021-10-30 13:32:29        1  Theory of probability\n",
       "1  100379 2021-10-30 14:11:19        0          Vizualization\n",
       "2  100379 2021-10-30 15:54:22        1  Theory of probability\n",
       "3  100379 2021-10-30 16:44:50        1          Vizualization\n",
       "4  100379 2021-10-30 17:15:05        1  Theory of probability"
      ]
     },
     "execution_count": 58,
     "metadata": {},
     "output_type": "execute_result"
    }
   ],
   "source": [
    "peas"
   ]
  },
  {
   "cell_type": "code",
   "execution_count": 59,
   "metadata": {
    "scrolled": true
   },
   "outputs": [
    {
     "data": {
      "text/html": [
       "<div>\n",
       "<style scoped>\n",
       "    .dataframe tbody tr th:only-of-type {\n",
       "        vertical-align: middle;\n",
       "    }\n",
       "\n",
       "    .dataframe tbody tr th {\n",
       "        vertical-align: top;\n",
       "    }\n",
       "\n",
       "    .dataframe thead th {\n",
       "        text-align: right;\n",
       "    }\n",
       "</style>\n",
       "<table border=\"1\" class=\"dataframe\">\n",
       "  <thead>\n",
       "    <tr style=\"text-align: right;\">\n",
       "      <th></th>\n",
       "      <th>st_id</th>\n",
       "      <th>test_grp</th>\n",
       "    </tr>\n",
       "  </thead>\n",
       "  <tbody>\n",
       "    <tr>\n",
       "      <th>0</th>\n",
       "      <td>100379</td>\n",
       "      <td>pilot</td>\n",
       "    </tr>\n",
       "    <tr>\n",
       "      <th>1</th>\n",
       "      <td>101432</td>\n",
       "      <td>control</td>\n",
       "    </tr>\n",
       "    <tr>\n",
       "      <th>2</th>\n",
       "      <td>104818</td>\n",
       "      <td>pilot</td>\n",
       "    </tr>\n",
       "    <tr>\n",
       "      <th>3</th>\n",
       "      <td>104885</td>\n",
       "      <td>pilot</td>\n",
       "    </tr>\n",
       "    <tr>\n",
       "      <th>4</th>\n",
       "      <td>104966</td>\n",
       "      <td>pilot</td>\n",
       "    </tr>\n",
       "  </tbody>\n",
       "</table>\n",
       "</div>"
      ],
      "text/plain": [
       "    st_id test_grp\n",
       "0  100379    pilot\n",
       "1  101432  control\n",
       "2  104818    pilot\n",
       "3  104885    pilot\n",
       "4  104966    pilot"
      ]
     },
     "execution_count": 59,
     "metadata": {},
     "output_type": "execute_result"
    }
   ],
   "source": [
    "query = '''\n",
    "    SELECT *\n",
    "    FROM default.studs\n",
    "    LIMIT 5\n",
    "'''\n",
    "\n",
    "studs = ph.read_clickhouse(query, connection=connection) #получаем данные из clickhouse в pandas dataframe\n",
    "studs"
   ]
  },
  {
   "cell_type": "code",
   "execution_count": 60,
   "metadata": {},
   "outputs": [
    {
     "data": {
      "text/html": [
       "<div>\n",
       "<style scoped>\n",
       "    .dataframe tbody tr th:only-of-type {\n",
       "        vertical-align: middle;\n",
       "    }\n",
       "\n",
       "    .dataframe tbody tr th {\n",
       "        vertical-align: top;\n",
       "    }\n",
       "\n",
       "    .dataframe thead th {\n",
       "        text-align: right;\n",
       "    }\n",
       "</style>\n",
       "<table border=\"1\" class=\"dataframe\">\n",
       "  <thead>\n",
       "    <tr style=\"text-align: right;\">\n",
       "      <th></th>\n",
       "      <th>st_id</th>\n",
       "      <th>sale_time</th>\n",
       "      <th>money</th>\n",
       "      <th>subject</th>\n",
       "    </tr>\n",
       "  </thead>\n",
       "  <tbody>\n",
       "    <tr>\n",
       "      <th>0</th>\n",
       "      <td>101432</td>\n",
       "      <td>2021-10-31 04:44:32</td>\n",
       "      <td>85000</td>\n",
       "      <td>Math</td>\n",
       "    </tr>\n",
       "    <tr>\n",
       "      <th>1</th>\n",
       "      <td>101432</td>\n",
       "      <td>2021-10-31 12:43:50</td>\n",
       "      <td>65000</td>\n",
       "      <td>Vizualization</td>\n",
       "    </tr>\n",
       "    <tr>\n",
       "      <th>2</th>\n",
       "      <td>104885</td>\n",
       "      <td>2021-10-30 17:05:55</td>\n",
       "      <td>65000</td>\n",
       "      <td>Vizualization</td>\n",
       "    </tr>\n",
       "    <tr>\n",
       "      <th>3</th>\n",
       "      <td>104885</td>\n",
       "      <td>2021-10-30 22:49:33</td>\n",
       "      <td>75000</td>\n",
       "      <td>Statistics</td>\n",
       "    </tr>\n",
       "    <tr>\n",
       "      <th>4</th>\n",
       "      <td>106464</td>\n",
       "      <td>2021-10-31 13:17:13</td>\n",
       "      <td>85000</td>\n",
       "      <td>Math</td>\n",
       "    </tr>\n",
       "  </tbody>\n",
       "</table>\n",
       "</div>"
      ],
      "text/plain": [
       "    st_id           sale_time  money        subject\n",
       "0  101432 2021-10-31 04:44:32  85000           Math\n",
       "1  101432 2021-10-31 12:43:50  65000  Vizualization\n",
       "2  104885 2021-10-30 17:05:55  65000  Vizualization\n",
       "3  104885 2021-10-30 22:49:33  75000     Statistics\n",
       "4  106464 2021-10-31 13:17:13  85000           Math"
      ]
     },
     "execution_count": 60,
     "metadata": {},
     "output_type": "execute_result"
    }
   ],
   "source": [
    "query = '''\n",
    "    SELECT\n",
    "        st_id,\n",
    "        toDateTime(sale_time) sale_time,\n",
    "        money,\n",
    "        subject\n",
    "    FROM default.final_project_check\n",
    "    LIMIT 5\n",
    "'''\n",
    "\n",
    "final_project_check = ph.read_clickhouse(query, connection=connection) \n",
    "final_project_check"
   ]
  },
  {
   "cell_type": "code",
   "execution_count": 61,
   "metadata": {},
   "outputs": [
    {
     "data": {
      "text/html": [
       "<div>\n",
       "<style scoped>\n",
       "    .dataframe tbody tr th:only-of-type {\n",
       "        vertical-align: middle;\n",
       "    }\n",
       "\n",
       "    .dataframe tbody tr th {\n",
       "        vertical-align: top;\n",
       "    }\n",
       "\n",
       "    .dataframe thead th {\n",
       "        text-align: right;\n",
       "    }\n",
       "</style>\n",
       "<table border=\"1\" class=\"dataframe\">\n",
       "  <thead>\n",
       "    <tr style=\"text-align: right;\">\n",
       "      <th></th>\n",
       "      <th>group</th>\n",
       "      <th>ARPU</th>\n",
       "      <th>ARPAU</th>\n",
       "      <th>CR_percent</th>\n",
       "      <th>CR_active_percent</th>\n",
       "      <th>CR_active_math_percent</th>\n",
       "    </tr>\n",
       "  </thead>\n",
       "  <tbody>\n",
       "    <tr>\n",
       "      <th>0</th>\n",
       "      <td>control</td>\n",
       "      <td>4540.983607</td>\n",
       "      <td>10393.700787</td>\n",
       "      <td>4.918033</td>\n",
       "      <td>11.023622</td>\n",
       "      <td>6.122449</td>\n",
       "    </tr>\n",
       "    <tr>\n",
       "      <th>1</th>\n",
       "      <td>pilot</td>\n",
       "      <td>11508.474576</td>\n",
       "      <td>29739.583333</td>\n",
       "      <td>10.847458</td>\n",
       "      <td>26.041667</td>\n",
       "      <td>9.523810</td>\n",
       "    </tr>\n",
       "  </tbody>\n",
       "</table>\n",
       "</div>"
      ],
      "text/plain": [
       "     group          ARPU         ARPAU  CR_percent  CR_active_percent  \\\n",
       "0  control   4540.983607  10393.700787    4.918033          11.023622   \n",
       "1    pilot  11508.474576  29739.583333   10.847458          26.041667   \n",
       "\n",
       "   CR_active_math_percent  \n",
       "0                6.122449  \n",
       "1                9.523810  "
      ]
     },
     "execution_count": 61,
     "metadata": {},
     "output_type": "execute_result"
    }
   ],
   "source": [
    "query = '''\n",
    "    SELECT \n",
    "        b.test_grp as group,\n",
    "        SUM(c.money) / COUNT(DISTINCT(b.st_id)) ARPU,\n",
    "        SUM(CASE WHEN a.sum_correct > 10 THEN c.money END) / COUNT(DISTINCT(CASE WHEN a.sum_correct > 10 THEN b.st_id END)) ARPAU,\n",
    "        COUNT(DISTINCT CASE WHEN c.money != 0 THEN c.st_id END) / COUNT(DISTINCT b.st_id) * 100 CR_percent,\n",
    "        COUNT(DISTINCT CASE WHEN a.sum_correct > 10 and c.money != 0  THEN b.st_id END) / COUNT(DISTINCT CASE WHEN a.sum_correct > 10 THEN b.st_id END) * 100 CR_active_percent,\n",
    "        COUNT(DISTINCT CASE WHEN c.subject = 'Math' and a.sum_math_correct >= 2 and c.money != 0  THEN b.st_id END) / COUNT(DISTINCT CASE WHEN a.sum_math_correct >= 2 THEN b.st_id END) * 100 CR_active_math_percent\n",
    "    FROM\n",
    "        (SELECT\n",
    "            DISTINCT(st_id) st_id,\n",
    "            sum(correct) sum_correct,\n",
    "            sum(CASE WHEN subject == 'Math' THEN correct END) sum_math_correct\n",
    "        FROM\n",
    "            default.peas\n",
    "        GROUP BY st_id\n",
    "        ) a\n",
    "    FULL JOIN default.studs as b ON a.st_id=b.st_id\n",
    "    FULL JOIN default.final_project_check as c ON b.st_id=c.st_id\n",
    "    GROUP BY group\n",
    "    '''\n",
    "\n",
    "SQL_result = ph.read_clickhouse(query, connection=connection) \n",
    "SQL_result"
   ]
  },
  {
   "cell_type": "markdown",
   "metadata": {},
   "source": [
    "___"
   ]
  },
  {
   "cell_type": "markdown",
   "metadata": {},
   "source": [
    "___"
   ]
  },
  {
   "cell_type": "markdown",
   "metadata": {},
   "source": [
    "## Задание 3. Python\n",
    "### Задача 1\n",
    "\n",
    "__Реализуйте функцию, которая будет автоматически подгружать информацию из дополнительного файла groups_add.csv (заголовки могут отличаться) и на основании дополнительных параметров пересчитывать метрики.__"
   ]
  },
  {
   "cell_type": "code",
   "execution_count": 62,
   "metadata": {},
   "outputs": [],
   "source": [
    "def update_group_add(url, groups, active_studs, checks):    \n",
    "    try:\n",
    "        groups_add = pd.read_csv(get_files('https://disk.yandex.ru/d/5Kxrz02m3IBUwQ'))\n",
    "    except:\n",
    "        groups_add    = pd.read_csv('~/final_project_data/Проект_2_group_add.csv')\n",
    "    groups_add.rename(columns={groups_add.columns[0]: 'id', groups_add.columns[0]: 'grp'})\n",
    "    full_groups = pd.concat([groups, groups_add], axis=0) #соеденим датафреймы \n",
    "    df = active_studs.merge(full_groups, how='left', on='id').merge(checks, how='left', on='id')\n",
    "    df = df.rename(columns={'grp':'group'}).fillna(0) #переименуем колонку и избавимся от всех NaN\n",
    "    df['purchase'] = df.revenue.apply(lambda x: 0 if x==0 else 1)\n",
    "    stat = df.groupby('group', as_index=False).agg({'id':'count', 'revenue':'sum', 'purchase':'sum'})\n",
    "    stat.columns = ['group', 'id_count', 'sum_revenue', 'sum_purchase']\n",
    "    stat['CR']    = round(stat.sum_purchase/stat.id_count * 100, 2)\n",
    "    stat['ARPPU'] = round(stat.sum_revenue/stat.sum_purchase, 2)\n",
    "    stat['ARPU']  = round(stat.sum_revenue/stat.id_count, 2)\n",
    "    \n",
    "    return stat\n",
    "                                                       "
   ]
  },
  {
   "cell_type": "code",
   "execution_count": 63,
   "metadata": {},
   "outputs": [
    {
     "data": {
      "text/html": [
       "<div>\n",
       "<style scoped>\n",
       "    .dataframe tbody tr th:only-of-type {\n",
       "        vertical-align: middle;\n",
       "    }\n",
       "\n",
       "    .dataframe tbody tr th {\n",
       "        vertical-align: top;\n",
       "    }\n",
       "\n",
       "    .dataframe thead th {\n",
       "        text-align: right;\n",
       "    }\n",
       "</style>\n",
       "<table border=\"1\" class=\"dataframe\">\n",
       "  <thead>\n",
       "    <tr style=\"text-align: right;\">\n",
       "      <th></th>\n",
       "      <th>group</th>\n",
       "      <th>id_count</th>\n",
       "      <th>sum_revenue</th>\n",
       "      <th>sum_purchase</th>\n",
       "      <th>CR</th>\n",
       "      <th>ARPPU</th>\n",
       "      <th>ARPU</th>\n",
       "    </tr>\n",
       "  </thead>\n",
       "  <tbody>\n",
       "    <tr>\n",
       "      <th>0</th>\n",
       "      <td>A</td>\n",
       "      <td>1538</td>\n",
       "      <td>72820.0000</td>\n",
       "      <td>78</td>\n",
       "      <td>5.07</td>\n",
       "      <td>933.59</td>\n",
       "      <td>47.35</td>\n",
       "    </tr>\n",
       "    <tr>\n",
       "      <th>1</th>\n",
       "      <td>B</td>\n",
       "      <td>6803</td>\n",
       "      <td>394974.0035</td>\n",
       "      <td>314</td>\n",
       "      <td>4.62</td>\n",
       "      <td>1257.88</td>\n",
       "      <td>58.06</td>\n",
       "    </tr>\n",
       "  </tbody>\n",
       "</table>\n",
       "</div>"
      ],
      "text/plain": [
       "  group  id_count  sum_revenue  sum_purchase    CR    ARPPU   ARPU\n",
       "0     A      1538   72820.0000            78  5.07   933.59  47.35\n",
       "1     B      6803  394974.0035           314  4.62  1257.88  58.06"
      ]
     },
     "execution_count": 63,
     "metadata": {},
     "output_type": "execute_result"
    }
   ],
   "source": [
    "update_group_add(groups_add, groups, active_studs, checks)"
   ]
  },
  {
   "cell_type": "markdown",
   "metadata": {},
   "source": [
    "### Задача 2\n",
    "__Реализуйте функцию, которая будет строить графики по получаемым метрикам.__"
   ]
  },
  {
   "cell_type": "code",
   "execution_count": 64,
   "metadata": {},
   "outputs": [],
   "source": [
    "def vizualization(data):\n",
    "    fig, axs = plt.subplots(1, 3, figsize=(30, 5))\n",
    "    sns.barplot(data=stat, x='group', y='CR', ax=axs[0])\n",
    "    axs[0].set_title('CR')\n",
    "    sns.barplot(data=stat, x='group', y='ARPPU', ax=axs[1])\n",
    "    axs[1].set_title('ARPPU')\n",
    "    sns.barplot(data=stat, x='group', y='ARPU', ax=axs[2])\n",
    "    axs[2].set_title('ARPU')\n",
    "    return"
   ]
  },
  {
   "cell_type": "code",
   "execution_count": 65,
   "metadata": {},
   "outputs": [
    {
     "data": {
      "image/png": "[encoded data removed]",
      "text/plain": [
       "<Figure size 2160x360 with 3 Axes>"
      ]
     },
     "metadata": {},
     "output_type": "display_data"
    }
   ],
   "source": [
    "vizualization(stat)"
   ]
  },
  {
   "cell_type": "code",
   "execution_count": null,
   "metadata": {},
   "outputs": [],
   "source": []
  }
 ],
 "metadata": {
  "kernelspec": {
   "display_name": "Python 3",
   "language": "python",
   "name": "python3"
  },
  "language_info": {
   "codemirror_mode": {
    "name": "ipython",
    "version": 3
   },
   "file_extension": ".py",
   "mimetype": "text/x-python",
   "name": "python",
   "nbconvert_exporter": "python",
   "pygments_lexer": "ipython3",
   "version": "3.7.3"
  }
 },
 "nbformat": 4,
 "nbformat_minor": 4
}
